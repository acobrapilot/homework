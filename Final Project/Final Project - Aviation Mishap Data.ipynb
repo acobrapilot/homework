{
 "cells": [
  {
   "cell_type": "markdown",
   "metadata": {
    "slideshow": {
     "slide_type": "slide"
    }
   },
   "source": [
    "## Problem Statement\n",
    "Over the relatively short 118 year history of powered human flight, the human race has achieved the unachievable time and again. From the first slow short hops of the Wright brothers in 1903 to supersonic jet flight only 44 years later, and to the moon only 22 years after that, untold numbers of people have perished in the advancement of aviation technology. These days, we think almost nothing of boarding a machine that can fly us at altitudes approaching 40,000 feet at almost the speed of sound to get us from one side of the country to the other in mere hours. While the technology is proven and safe enough for us to not worry about the miniscule chance of a serious problem resulting in a devastating outcome, those problems do still arise. There are many causes for aviation mishaps and accidents, and whenever one occurs, investigators gather every possible data point that could lead to a better understanding of what happened and how to prevent it in the future.\n"
   ]
  },
  {
   "cell_type": "markdown",
   "metadata": {
    "slideshow": {
     "slide_type": "slide"
    }
   },
   "source": [
    "## Data Sets\n",
    "For this exercise, I will be analyzing aviation mishap data sets provided by the Federal Aviation Administration (FAA) Aviation Safety Information Analysis and Sharing (ASIAS) system. This system provides links to multiple source databases provided from the FAA, the National Transportation Safety Board (NTSB), the Bureau of Transportation Statistics (BTS), and the National Aeronautics and Space Administration (NASA), among others, that track various safety issues and incident and accident reports."
   ]
  },
  {
   "cell_type": "markdown",
   "metadata": {
    "slideshow": {
     "slide_type": "slide"
    }
   },
   "source": [
    "## Sample Questions I Seek to Answer\n",
    "I will begin with exploring the data and producing summary statistics .\n",
    "\n",
    "Questions to answer:\n",
    "What are the top 10 most common accidents or incidents?\n",
    "Of the top 10 most common events, what are the top general causes?\n",
    "What are the top primary causal factors? Contributing factors? Supporting factors?\n",
    "What is the most deadly event type? Which results in the most injuries?\n",
    "What are the top primary causal factors for the most fatal and injurious events?\n",
    "\n",
    "Does the time of day (in local time) affect rates of accident or incident?\n",
    "Does the time of year?\n",
    "\n",
    "Does the level of pilot qualification make a difference?\n",
    "Does the pilot's experience? (measured in total pilot time)\n",
    "\n",
    "What are the most prevalent accident and incident types for each of the top 5 aircraft models?\n",
    "\n",
    "More advanced and difficult questions I'd like to answer if I can:\n",
    "Are there significant groupings of primary and secondary contributing factors in aviation mishaps when looking at different types of mishaps? For example, do stall or spin mishap types occur more frequently when there is a specific combination of contributing factors (e.g., pilot-based features, aircraft-based features, weather-based features)?\n",
    "\n",
    "This would suggest that there are specific contributing factors (or groups of factors) that, if focused on via training or other resources, would have a more significant impact on aviation mishap rates for the most common or most severe/fatalmishap types.\n",
    "\n",
    "Overall analysis:\n",
    "Most common accident? Incident? both?\n",
    "Most deadly accident type? Incident type? both? (fatalities\n",
    "\n",
    "Of these most common, what are the combinations of contributing factors most prevalent for these A/Is?\n",
    "\n",
    "Questions for follow-up:\n",
    "Pilot analysis:\n",
    "Does the total flight time (flight hours) of the pilot make a difference? \n",
    "Does the total number of flight hours in make/model make a difference?\n",
    "Does the number of flight hours in the preceeding 90 days make a difference?\n",
    "\n",
    "Aircraft Analysis:\n",
    "Aircraft type make a difference? \n",
    "Engine?\n"
   ]
  },
  {
   "cell_type": "markdown",
   "metadata": {
    "slideshow": {
     "slide_type": "slide"
    }
   },
   "source": [
    "## Challenges\n",
    "1. There are several data sets provided from multiple organizations that are each very large. This required a thorough study of each data set thoroughly to determine the best combination of data and questions to ask.\n",
    "\n",
    "2. The analysis is further complicated by the fact that the main data set refers to multiple other tables that interpret the various codes recorded in the main table. I discovered that there were additional columns in the data set that provided text for the various encoded information.\n",
    "\n",
    "3. There were many blank areas within the data set, and the data is mostly categorical in nature. I removed observations where there was no information on accident type or general causal factor.\n"
   ]
  },
  {
   "cell_type": "markdown",
   "metadata": {
    "slideshow": {
     "slide_type": "slide"
    }
   },
   "source": [
    "## Project Execution\n",
    "This project required me to look at many different data sets from the NTSB, FAA, BTS, and NASA. I selected a dataset from the FAA's Accident/Incident Database (AIDS). This database is very thorough and spans many years (pre-1975, then each year through 2015). I began by looking at the data download site at http://av-info.faa.gov/dd_sublevel.asp?Folder=%5CAID.\n",
    "\n",
    "The data is broken down by year groups, with one text file (tab delimited) per 5 year time period. The resulting data set is massive. I began by choosing the most recent year group (2015 - 2019) which includes incidents up to July 29th, 2017. Upon further analysis (~3 hours) of this file, I determined that many data fields I was interested in were missing, most likely due to recent changes in how the data is reported and stored in this database. I then looked back and a previous date range (2005-2009) and selected that file for further analysis. This file contains 15,782 rows and 180 columns.\n",
    "\n",
    "I considered combining all data files into one DataFrame for analysis, but for the scope of this project, I chose to keep my analysis to a single file with incidents from 2005-2009. In the future, it would be interesting to conduct the same analysis on the combined data set to look at the trends of accidents and incidents over time."
   ]
  },
  {
   "cell_type": "code",
   "execution_count": 29,
   "metadata": {
    "slideshow": {
     "slide_type": "slide"
    }
   },
   "outputs": [],
   "source": [
    "# Import sample data file from FAA Accident/Incident Database (AIDS):\n",
    "import pandas as pd\n",
    "import numpy as np\n",
    "import matplotlib.pyplot as plt\n",
    "%matplotlib inline\n",
    "pd.set_option('display.max_rows', 500)\n",
    "url = './data/A2005_09.txt'\n",
    "faa_full = pd.read_table(url, sep='\\t')"
   ]
  },
  {
   "cell_type": "code",
   "execution_count": 30,
   "metadata": {},
   "outputs": [
    {
     "data": {
      "text/plain": [
       "(15782, 180)"
      ]
     },
     "execution_count": 30,
     "metadata": {},
     "output_type": "execute_result"
    }
   ],
   "source": [
    "faa_full.shape"
   ]
  },
  {
   "cell_type": "markdown",
   "metadata": {
    "slideshow": {
     "slide_type": "slide"
    }
   },
   "source": [
    "# Data Familiarization and Munging Phase\n",
    "### Getting Familiar With the Data\n",
    "In this phase I examined basic information about the data set. After I pulled the data into my notebook, I found that I did not need most of the 180 columns. I imported the data dictionary from a text file into a spreadsheet (./data/Data Dictionary.xlsx) and looked at the columns to determine those I could drop for the main data set. I annotated the spreadsheet with my keep/drop decisions by coloring the features I wished to keep as green, and those to drop as red. I also categorized the features by pilot-related characteristics, aircraft-related characteristics, and added other notes. Finally, I added a column to the dictionary to sort it. This was necessary because I noticed that related features were not located next to each other in the downloaded data set. For example, the Primary Cause Factor text (c77) and Primary Cause Factor Code (c78) were stored as columns 146 and 122, respectively. Sorting the data dictionary allowed me to easily identify these related columns and extract only the features I wanted to analyze.\n",
    "\n",
    "To facilitate the selection process I looked at value_counts() for each feature and compared the results to the Data Dictionary to get a feel for the data contained within and to further inform the features I would keep or drop. Based on sorting and analyzing value_counts, I realized that there were multiple columns that represented the same data. For example, several date and time fields were represented as both separate year, month, day, time columns and again as a combined column. Also, many of the columns are encoded (key is found in './data/AIDCODES.doc') with the same data recorded in plain text in another column. In these cases, I chose to keep the plain text and drop the encoded column.\n",
    "### Munging\n",
    "Once I completed my initial look at the data and the data dictionary, I went through the following steps to make it more manageable:\n",
    "1. I dropped the columns I determined I would not need for this analysis.\n",
    "2. I renamed the remaining columns to plain-language names\n",
    "3. I dropped all rows that did not have any primary causal factors listed.\n",
    "4. I dropped rows with no accident type listed.\n",
    "\n",
    "As some of the questions I wanted to examine would need some features while others would not, I kept the 'faa' dataset as whole as possible, and peeled off subsets of the data into separate dataframes as needed for my analysis."
   ]
  },
  {
   "cell_type": "code",
   "execution_count": 31,
   "metadata": {
    "collapsed": true
   },
   "outputs": [],
   "source": [
    "#Data Munging Phase\n",
    "\n",
    "#Drop 137 unwanted columns from dataset, leaving 43.\n",
    "\n",
    "#I broke up the list of columns I wanted to drop as I determined them to reduce my chances of error.\n",
    "droplist = ['c2','c3','c4','c5','c6','c7','c8','c11','c12','c13','c14','c15','c16','c17','c18','c19','c22','c25']\n",
    "droplist = droplist + ['c26','c27','c30','c32','c33','c34','c35','c36','c37','c38','c39', 'c41','c43','c44','c45','c46','c47','c49']\n",
    "droplist = droplist + ['c51','c52','c57','c58','c59','c61','c62','c63','c64','c65','c66','c67','c68','c69','c70','c71','c72','c73']\n",
    "droplist = droplist + ['c74','c75','c78','c80','c82','c84','c86','c88','c90','c96','c98','c101','c102','c103','c104']\n",
    "droplist = droplist + ['c106','c108','c110','c111','c112','c113','c114','c115','c117','c118','c119','c120','c121','c122','c123','c124']\n",
    "droplist = droplist + ['c125','c126','c127','c128','c129','c131','c132','c133','c134','c135','c136','c137','c138','c139','c140']\n",
    "droplist = droplist + ['c141','c143','c144','c145','c146','c147','c149','c152','c153','c154','c155','c157','c160','c162','c184','c192']\n",
    "droplist = droplist + ['c203','c204','c205','c206','c207','c208','c210','c214','c229','c230','c233','c234','c240','c241','c242']\n",
    "droplist = droplist + ['c243','c244','c790','end_of_record','c92','c94','c100']\n",
    "faa_full = faa_full.drop(droplist, axis=1)"
   ]
  },
  {
   "cell_type": "code",
   "execution_count": 32,
   "metadata": {
    "scrolled": true
   },
   "outputs": [
    {
     "data": {
      "text/plain": [
       "(15782, 42)"
      ]
     },
     "execution_count": 32,
     "metadata": {},
     "output_type": "execute_result"
    }
   ],
   "source": [
    "faa_full.shape"
   ]
  },
  {
   "cell_type": "code",
   "execution_count": 33,
   "metadata": {},
   "outputs": [
    {
     "data": {
      "text/plain": [
       "42"
      ]
     },
     "execution_count": 33,
     "metadata": {},
     "output_type": "execute_result"
    }
   ],
   "source": [
    "# I created plain-language column names that aligned with the data dictionary added them in the same order as the columns\n",
    "columnlist=['event_type','date','local_time','num_engines','make','model','airframe_hours','lat','long']\n",
    "columnlist = columnlist + ['fatalities','injuries','pilot_age','pilot_total_hours_model','pilot_90_day_hours_model']\n",
    "columnlist = columnlist + ['pilot_90_day_hours','pilot_total_hours','flight_plan_desc','pilot_cert','pilot_qual']\n",
    "columnlist = columnlist + ['primary_cause','contributing_factor','persons_involved','supporting_factor_technical']\n",
    "columnlist = columnlist + ['second_cause','second_contributing','second_persons','second_supporting_technical']\n",
    "columnlist = columnlist + ['accident_type','flight_phase','damage','general_cause','primary_flying_conditions']\n",
    "columnlist = columnlist + ['second_flying_conditions','light_condition','wing_info','powered','engine_type']\n",
    "columnlist = columnlist + ['landing_gear','additional_cause','2nd_additional_cause','supporting_factor_operational']\n",
    "columnlist = columnlist + ['second_supporting_operational']\n",
    "len(columnlist)"
   ]
  },
  {
   "cell_type": "code",
   "execution_count": 34,
   "metadata": {
    "collapsed": true
   },
   "outputs": [],
   "source": [
    "faa_full.columns = columnlist # Renamed columns"
   ]
  },
  {
   "cell_type": "code",
   "execution_count": 35,
   "metadata": {
    "scrolled": true
   },
   "outputs": [
    {
     "data": {
      "text/html": [
       "<div>\n",
       "<style>\n",
       "    .dataframe thead tr:only-child th {\n",
       "        text-align: right;\n",
       "    }\n",
       "\n",
       "    .dataframe thead th {\n",
       "        text-align: left;\n",
       "    }\n",
       "\n",
       "    .dataframe tbody tr th {\n",
       "        vertical-align: top;\n",
       "    }\n",
       "</style>\n",
       "<table border=\"1\" class=\"dataframe\">\n",
       "  <thead>\n",
       "    <tr style=\"text-align: right;\">\n",
       "      <th></th>\n",
       "      <th>event_type</th>\n",
       "      <th>date</th>\n",
       "      <th>local_time</th>\n",
       "      <th>num_engines</th>\n",
       "      <th>make</th>\n",
       "      <th>model</th>\n",
       "      <th>airframe_hours</th>\n",
       "      <th>lat</th>\n",
       "      <th>long</th>\n",
       "      <th>fatalities</th>\n",
       "      <th>...</th>\n",
       "      <th>second_flying_conditions</th>\n",
       "      <th>light_condition</th>\n",
       "      <th>wing_info</th>\n",
       "      <th>powered</th>\n",
       "      <th>engine_type</th>\n",
       "      <th>landing_gear</th>\n",
       "      <th>additional_cause</th>\n",
       "      <th>2nd_additional_cause</th>\n",
       "      <th>supporting_factor_operational</th>\n",
       "      <th>second_supporting_operational</th>\n",
       "    </tr>\n",
       "  </thead>\n",
       "  <tbody>\n",
       "    <tr>\n",
       "      <th>0</th>\n",
       "      <td>I</td>\n",
       "      <td>20050101</td>\n",
       "      <td>1215</td>\n",
       "      <td>2.0</td>\n",
       "      <td>GULSTM</td>\n",
       "      <td>GIV</td>\n",
       "      <td>NaN</td>\n",
       "      <td>NaN</td>\n",
       "      <td>NaN</td>\n",
       "      <td>0</td>\n",
       "      <td>...</td>\n",
       "      <td>Weather Not A Factor</td>\n",
       "      <td>Day</td>\n",
       "      <td>MONOPLANE-LOW WING</td>\n",
       "      <td>POWERED</td>\n",
       "      <td></td>\n",
       "      <td>Wheeled-Tricycle</td>\n",
       "      <td></td>\n",
       "      <td></td>\n",
       "      <td></td>\n",
       "      <td></td>\n",
       "    </tr>\n",
       "    <tr>\n",
       "      <th>1</th>\n",
       "      <td>I</td>\n",
       "      <td>20050101</td>\n",
       "      <td>1430</td>\n",
       "      <td>1.0</td>\n",
       "      <td>ICA</td>\n",
       "      <td>IAR823</td>\n",
       "      <td>1820.0</td>\n",
       "      <td>NaN</td>\n",
       "      <td>NaN</td>\n",
       "      <td>0</td>\n",
       "      <td>...</td>\n",
       "      <td>Weather Not A Factor</td>\n",
       "      <td>Day</td>\n",
       "      <td>MONOPLANE-LOW WING</td>\n",
       "      <td>POWERED</td>\n",
       "      <td>RECIPROCATING-OPPOSED</td>\n",
       "      <td>Wheeled-Tricycle</td>\n",
       "      <td></td>\n",
       "      <td></td>\n",
       "      <td></td>\n",
       "      <td></td>\n",
       "    </tr>\n",
       "    <tr>\n",
       "      <th>2</th>\n",
       "      <td>A</td>\n",
       "      <td>20050101</td>\n",
       "      <td>1400</td>\n",
       "      <td>1.0</td>\n",
       "      <td>MAULE</td>\n",
       "      <td>M7235B</td>\n",
       "      <td>NaN</td>\n",
       "      <td>06151N</td>\n",
       "      <td>14751W</td>\n",
       "      <td>0</td>\n",
       "      <td>...</td>\n",
       "      <td>Weather Not A Factor</td>\n",
       "      <td></td>\n",
       "      <td>MONOPLANE-HIGH WING/PARA WING</td>\n",
       "      <td>POWERED</td>\n",
       "      <td>RECIPROCATING-OPPOSED</td>\n",
       "      <td>Wheeled-Conventional</td>\n",
       "      <td></td>\n",
       "      <td></td>\n",
       "      <td></td>\n",
       "      <td></td>\n",
       "    </tr>\n",
       "    <tr>\n",
       "      <th>3</th>\n",
       "      <td>I</td>\n",
       "      <td>20050101</td>\n",
       "      <td>1630</td>\n",
       "      <td>1.0</td>\n",
       "      <td>PIPER</td>\n",
       "      <td>PA28R180</td>\n",
       "      <td>1919.0</td>\n",
       "      <td>NaN</td>\n",
       "      <td>NaN</td>\n",
       "      <td>0</td>\n",
       "      <td>...</td>\n",
       "      <td>Weather Not A Factor</td>\n",
       "      <td>Day</td>\n",
       "      <td>MONOPLANE-LOW WING</td>\n",
       "      <td>POWERED</td>\n",
       "      <td>RECIPROCATING-OPPOSED</td>\n",
       "      <td></td>\n",
       "      <td></td>\n",
       "      <td></td>\n",
       "      <td></td>\n",
       "      <td></td>\n",
       "    </tr>\n",
       "    <tr>\n",
       "      <th>4</th>\n",
       "      <td>A</td>\n",
       "      <td>20050101</td>\n",
       "      <td>1122</td>\n",
       "      <td>2.0</td>\n",
       "      <td>CESSNA</td>\n",
       "      <td>551</td>\n",
       "      <td>NaN</td>\n",
       "      <td>NaN</td>\n",
       "      <td>NaN</td>\n",
       "      <td>0</td>\n",
       "      <td>...</td>\n",
       "      <td>Freezing Temperature</td>\n",
       "      <td>Day</td>\n",
       "      <td>MONOPLANE-LOW WING</td>\n",
       "      <td>POWERED</td>\n",
       "      <td>TURBOFAN/TURBOJET BYPASS</td>\n",
       "      <td></td>\n",
       "      <td></td>\n",
       "      <td></td>\n",
       "      <td></td>\n",
       "      <td>Pilot and Ground Cre</td>\n",
       "    </tr>\n",
       "  </tbody>\n",
       "</table>\n",
       "<p>5 rows × 42 columns</p>\n",
       "</div>"
      ],
      "text/plain": [
       "  event_type      date local_time  num_engines    make         model  \\\n",
       "0          I  20050101       1215          2.0  GULSTM  GIV            \n",
       "1          I  20050101       1430          1.0  ICA     IAR823         \n",
       "2          A  20050101       1400          1.0  MAULE   M7235B         \n",
       "3          I  20050101       1630          1.0  PIPER   PA28R180       \n",
       "4          A  20050101       1122          2.0  CESSNA  551            \n",
       "\n",
       "   airframe_hours     lat    long  fatalities              ...               \\\n",
       "0             NaN     NaN     NaN           0              ...                \n",
       "1          1820.0     NaN     NaN           0              ...                \n",
       "2             NaN  06151N  14751W           0              ...                \n",
       "3          1919.0     NaN     NaN           0              ...                \n",
       "4             NaN     NaN     NaN           0              ...                \n",
       "\n",
       "   second_flying_conditions       light_condition  \\\n",
       "0      Weather Not A Factor  Day                    \n",
       "1      Weather Not A Factor  Day                    \n",
       "2      Weather Not A Factor                         \n",
       "3      Weather Not A Factor  Day                    \n",
       "4      Freezing Temperature  Day                    \n",
       "\n",
       "                        wing_info                         powered  \\\n",
       "0  MONOPLANE-LOW WING              POWERED                          \n",
       "1  MONOPLANE-LOW WING              POWERED                          \n",
       "2  MONOPLANE-HIGH WING/PARA WING   POWERED                          \n",
       "3  MONOPLANE-LOW WING              POWERED                          \n",
       "4  MONOPLANE-LOW WING              POWERED                          \n",
       "\n",
       "                      engine_type                    landing_gear  \\\n",
       "0                                  Wheeled-Tricycle                 \n",
       "1  RECIPROCATING-OPPOSED           Wheeled-Tricycle                 \n",
       "2  RECIPROCATING-OPPOSED           Wheeled-Conventional             \n",
       "3  RECIPROCATING-OPPOSED                                            \n",
       "4  TURBOFAN/TURBOJET BYPASS                                         \n",
       "\n",
       "       additional_cause  2nd_additional_cause supporting_factor_operational  \\\n",
       "0                                                                             \n",
       "1                                                                             \n",
       "2                                                                             \n",
       "3                                                                             \n",
       "4                                                                             \n",
       "\n",
       "  second_supporting_operational  \n",
       "0                                \n",
       "1                                \n",
       "2                                \n",
       "3                                \n",
       "4          Pilot and Ground Cre  \n",
       "\n",
       "[5 rows x 42 columns]"
      ]
     },
     "execution_count": 35,
     "metadata": {},
     "output_type": "execute_result"
    }
   ],
   "source": [
    "faa_full.head() # Sanity check on column labels"
   ]
  },
  {
   "cell_type": "code",
   "execution_count": 36,
   "metadata": {
    "collapsed": true
   },
   "outputs": [],
   "source": [
    "# I replaced all blank values in the primary cause and accident type columns with NaN\n",
    "\n",
    "# In order to determine what exactly was in the blank values, I used:\n",
    "# causes = pd.DataFrame(faa_full.general_cause.value_counts())\n",
    "# causes.index\n",
    "# Then I copied the number of spaces into the replace statement below:\n",
    "# faa_full.replace('                    ', np.nan, inplace=True)\n",
    "# I dropped all rows that did not have any primary cause listed (which are now NaN) and put them in a new df, \"faa\"\n",
    "# faa = faa_full.dropna(subset=['general_cause'])\n",
    "\n",
    "#Later, (after much pain) I found that I could strip all the whitespace across the DataFrame with a function:\n",
    "def df_strip(df): \n",
    "  df = df.copy() \n",
    "  for c in df.columns:\n",
    "    if df[c].dtype == np.object:\n",
    "      df[c] = pd.core.strings.str_strip(df[c])\n",
    "    #df = df.rename(columns={c:c.strip()})\n",
    "  return df\n",
    "\n",
    "faa_full = df_strip(faa_full); # Calls above function to strip whitespace\n",
    "faa_full.replace('', np.nan, inplace=True) # Replaces empty cells with NaN\n",
    "# Then I could easily replace the blank cells with NaN, and drop any columns or rows easily."
   ]
  },
  {
   "cell_type": "code",
   "execution_count": 37,
   "metadata": {
    "collapsed": true
   },
   "outputs": [],
   "source": [
    "faa_full.dropna(subset=['general_cause','accident_type'], inplace=True)"
   ]
  },
  {
   "cell_type": "code",
   "execution_count": 54,
   "metadata": {},
   "outputs": [
    {
     "data": {
      "text/plain": [
       "<matplotlib.axes._subplots.AxesSubplot at 0x9b35940>"
      ]
     },
     "execution_count": 54,
     "metadata": {},
     "output_type": "execute_result"
    },
    {
     "data": {
      "image/png": "[encoded data removed]",
      "text/plain": [
       "<matplotlib.figure.Figure at 0xe89eac8>"
      ]
     },
     "metadata": {},
     "output_type": "display_data"
    }
   ],
   "source": [
    "# Plot showing the top 20 types of accidents\n",
    "faa_full.accident_type.value_counts().head(20).plot(kind='bar', figsize = (12,8))"
   ]
  },
  {
   "cell_type": "code",
   "execution_count": 56,
   "metadata": {},
   "outputs": [],
   "source": [
    "fatal_accidents = faa_full[faa_full['fatalities'] > 0]"
   ]
  },
  {
   "cell_type": "code",
   "execution_count": 61,
   "metadata": {},
   "outputs": [
    {
     "data": {
      "text/plain": [
       "<matplotlib.axes._subplots.AxesSubplot at 0x9914400>"
      ]
     },
     "execution_count": 61,
     "metadata": {},
     "output_type": "execute_result"
    },
    {
     "data": {
      "image/png": "[encoded data removed]",
      "text/plain": [
       "<matplotlib.figure.Figure at 0xcfd89b0>"
      ]
     },
     "metadata": {},
     "output_type": "display_data"
    }
   ],
   "source": [
    "# Plot showing the top 20 fatal accidents, by # of occurrences\n",
    "fatal_accidents.accident_type.value_counts().head(20).plot(kind='bar', figsize = (12,8))"
   ]
  },
  {
   "cell_type": "code",
   "execution_count": 88,
   "metadata": {},
   "outputs": [
    {
     "data": {
      "text/plain": [
       "<matplotlib.axes._subplots.AxesSubplot at 0x1bcf44a8>"
      ]
     },
     "execution_count": 88,
     "metadata": {},
     "output_type": "execute_result"
    },
    {
     "data": {
      "image/png": "[encoded data removed]",
      "text/plain": [
       "<matplotlib.figure.Figure at 0x1bd00550>"
      ]
     },
     "metadata": {},
     "output_type": "display_data"
    }
   ],
   "source": [
    "# Plot of fatal accident types, by total number of fatalities. Of note, \n",
    "fatal_accidents[['accident_type', 'fatalities']].groupby('accident_type').sum().sort_values('fatalities',ascending=False).plot(kind='bar', figsize=(12,8))"
   ]
  },
  {
   "cell_type": "code",
   "execution_count": 89,
   "metadata": {},
   "outputs": [
    {
     "data": {
      "text/html": [
       "<div>\n",
       "<style>\n",
       "    .dataframe thead tr:only-child th {\n",
       "        text-align: right;\n",
       "    }\n",
       "\n",
       "    .dataframe thead th {\n",
       "        text-align: left;\n",
       "    }\n",
       "\n",
       "    .dataframe tbody tr th {\n",
       "        vertical-align: top;\n",
       "    }\n",
       "</style>\n",
       "<table border=\"1\" class=\"dataframe\">\n",
       "  <thead>\n",
       "    <tr style=\"text-align: right;\">\n",
       "      <th></th>\n",
       "      <th>date</th>\n",
       "      <th>num_engines</th>\n",
       "      <th>airframe_hours</th>\n",
       "      <th>fatalities</th>\n",
       "      <th>injuries</th>\n",
       "      <th>pilot_age</th>\n",
       "      <th>pilot_total_hours_model</th>\n",
       "      <th>pilot_90_day_hours_model</th>\n",
       "      <th>pilot_90_day_hours</th>\n",
       "      <th>pilot_total_hours</th>\n",
       "    </tr>\n",
       "  </thead>\n",
       "  <tbody>\n",
       "    <tr>\n",
       "      <th>count</th>\n",
       "      <td>9.370000e+02</td>\n",
       "      <td>891.000000</td>\n",
       "      <td>602.000000</td>\n",
       "      <td>937.000000</td>\n",
       "      <td>937.000000</td>\n",
       "      <td>925.000000</td>\n",
       "      <td>693.000000</td>\n",
       "      <td>7.000000</td>\n",
       "      <td>662.000000</td>\n",
       "      <td>822.00000</td>\n",
       "    </tr>\n",
       "    <tr>\n",
       "      <th>mean</th>\n",
       "      <td>2.006329e+07</td>\n",
       "      <td>1.140292</td>\n",
       "      <td>4445.800664</td>\n",
       "      <td>1.766275</td>\n",
       "      <td>0.221985</td>\n",
       "      <td>52.061622</td>\n",
       "      <td>438.225108</td>\n",
       "      <td>25.857143</td>\n",
       "      <td>37.676737</td>\n",
       "      <td>3303.39781</td>\n",
       "    </tr>\n",
       "    <tr>\n",
       "      <th>std</th>\n",
       "      <td>1.048523e+04</td>\n",
       "      <td>0.387245</td>\n",
       "      <td>6704.521219</td>\n",
       "      <td>1.945797</td>\n",
       "      <td>0.648657</td>\n",
       "      <td>14.811495</td>\n",
       "      <td>1166.747058</td>\n",
       "      <td>25.347114</td>\n",
       "      <td>64.631234</td>\n",
       "      <td>5623.10164</td>\n",
       "    </tr>\n",
       "    <tr>\n",
       "      <th>min</th>\n",
       "      <td>2.005010e+07</td>\n",
       "      <td>0.000000</td>\n",
       "      <td>1.000000</td>\n",
       "      <td>1.000000</td>\n",
       "      <td>0.000000</td>\n",
       "      <td>17.000000</td>\n",
       "      <td>0.000000</td>\n",
       "      <td>1.000000</td>\n",
       "      <td>0.000000</td>\n",
       "      <td>0.00000</td>\n",
       "    </tr>\n",
       "    <tr>\n",
       "      <th>25%</th>\n",
       "      <td>2.005101e+07</td>\n",
       "      <td>1.000000</td>\n",
       "      <td>599.500000</td>\n",
       "      <td>1.000000</td>\n",
       "      <td>0.000000</td>\n",
       "      <td>43.000000</td>\n",
       "      <td>0.000000</td>\n",
       "      <td>7.500000</td>\n",
       "      <td>0.000000</td>\n",
       "      <td>300.00000</td>\n",
       "    </tr>\n",
       "    <tr>\n",
       "      <th>50%</th>\n",
       "      <td>2.006091e+07</td>\n",
       "      <td>1.000000</td>\n",
       "      <td>2856.500000</td>\n",
       "      <td>1.000000</td>\n",
       "      <td>0.000000</td>\n",
       "      <td>54.000000</td>\n",
       "      <td>64.000000</td>\n",
       "      <td>9.000000</td>\n",
       "      <td>12.000000</td>\n",
       "      <td>1000.00000</td>\n",
       "    </tr>\n",
       "    <tr>\n",
       "      <th>75%</th>\n",
       "      <td>2.007082e+07</td>\n",
       "      <td>1.000000</td>\n",
       "      <td>5399.250000</td>\n",
       "      <td>2.000000</td>\n",
       "      <td>0.000000</td>\n",
       "      <td>63.000000</td>\n",
       "      <td>296.000000</td>\n",
       "      <td>48.000000</td>\n",
       "      <td>43.000000</td>\n",
       "      <td>3492.50000</td>\n",
       "    </tr>\n",
       "    <tr>\n",
       "      <th>max</th>\n",
       "      <td>2.008082e+07</td>\n",
       "      <td>2.000000</td>\n",
       "      <td>71116.000000</td>\n",
       "      <td>49.000000</td>\n",
       "      <td>8.000000</td>\n",
       "      <td>88.000000</td>\n",
       "      <td>13000.000000</td>\n",
       "      <td>60.000000</td>\n",
       "      <td>467.000000</td>\n",
       "      <td>40500.00000</td>\n",
       "    </tr>\n",
       "  </tbody>\n",
       "</table>\n",
       "</div>"
      ],
      "text/plain": [
       "               date  num_engines  airframe_hours  fatalities    injuries  \\\n",
       "count  9.370000e+02   891.000000      602.000000  937.000000  937.000000   \n",
       "mean   2.006329e+07     1.140292     4445.800664    1.766275    0.221985   \n",
       "std    1.048523e+04     0.387245     6704.521219    1.945797    0.648657   \n",
       "min    2.005010e+07     0.000000        1.000000    1.000000    0.000000   \n",
       "25%    2.005101e+07     1.000000      599.500000    1.000000    0.000000   \n",
       "50%    2.006091e+07     1.000000     2856.500000    1.000000    0.000000   \n",
       "75%    2.007082e+07     1.000000     5399.250000    2.000000    0.000000   \n",
       "max    2.008082e+07     2.000000    71116.000000   49.000000    8.000000   \n",
       "\n",
       "        pilot_age  pilot_total_hours_model  pilot_90_day_hours_model  \\\n",
       "count  925.000000               693.000000                  7.000000   \n",
       "mean    52.061622               438.225108                 25.857143   \n",
       "std     14.811495              1166.747058                 25.347114   \n",
       "min     17.000000                 0.000000                  1.000000   \n",
       "25%     43.000000                 0.000000                  7.500000   \n",
       "50%     54.000000                64.000000                  9.000000   \n",
       "75%     63.000000               296.000000                 48.000000   \n",
       "max     88.000000             13000.000000                 60.000000   \n",
       "\n",
       "       pilot_90_day_hours  pilot_total_hours  \n",
       "count          662.000000          822.00000  \n",
       "mean            37.676737         3303.39781  \n",
       "std             64.631234         5623.10164  \n",
       "min              0.000000            0.00000  \n",
       "25%              0.000000          300.00000  \n",
       "50%             12.000000         1000.00000  \n",
       "75%             43.000000         3492.50000  \n",
       "max            467.000000        40500.00000  "
      ]
     },
     "execution_count": 89,
     "metadata": {},
     "output_type": "execute_result"
    }
   ],
   "source": []
  },
  {
   "cell_type": "code",
   "execution_count": null,
   "metadata": {
    "collapsed": true
   },
   "outputs": [],
   "source": []
  }
 ],
 "metadata": {
  "celltoolbar": "Slideshow",
  "kernelspec": {
   "display_name": "Python 2",
   "language": "python",
   "name": "python2"
  },
  "language_info": {
   "codemirror_mode": {
    "name": "ipython",
    "version": 2
   },
   "file_extension": ".py",
   "mimetype": "text/x-python",
   "name": "python",
   "nbconvert_exporter": "python",
   "pygments_lexer": "ipython2",
   "version": "2.7.13"
  }
 },
 "nbformat": 4,
 "nbformat_minor": 2
}
