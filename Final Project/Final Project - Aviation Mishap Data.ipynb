{
 "cells": [
  {
   "cell_type": "markdown",
   "metadata": {
    "slideshow": {
     "slide_type": "slide"
    }
   },
   "source": [
    "## Problem Statement\n",
    "Over the relatively short 118 year history of powered human flight, the human race has achieved the unachievable time and again. From the first slow short hops of the Wright brothers in 1903 to supersonic jet flight only 44 years later, and to the moon only 22 years after that, untold numbers of people have perished in the advancement of aviation technology. These days, we think almost nothing of boarding a machine that can fly us at altitudes approaching 40,000 feet at almost the speed of sound to get us from one side of the country to the other in mere hours. While the technology is proven and safe enough for us to not worry about the miniscule chance of a serious problem resulting in a devastating outcome, those problems do still arise. There are many causes for aviation mishaps and accidents, and whenever one occurs, investigators gather every possible data point that could lead to a better understanding of what happened and how to prevent it in the future.\n"
   ]
  },
  {
   "cell_type": "markdown",
   "metadata": {
    "slideshow": {
     "slide_type": "slide"
    }
   },
   "source": [
    "## Data Sets\n",
    "For this exercise, I will be analyzing aviation mishap data sets provided by the Federal Aviation Administration (FAA) Aviation Safety Information Analysis and Sharing (ASIAS) system. This system provides links to multiple source databases provided from the FAA, the National Transportation Safety Board (NTSB), the Bureau of Transportation Statistics (BTS), and the National Aeronautics and Space Administration (NASA), among others, that track various safety issues and incident and accident reports."
   ]
  },
  {
   "cell_type": "markdown",
   "metadata": {
    "slideshow": {
     "slide_type": "slide"
    }
   },
   "source": [
    "## Sample Questions I Seek to Answer\n",
    "I will begin with exploring the data and producing summary statistics .\n",
    "\n",
    "Are there significant clusters of primary and secondary contributing factors in aviation mishaps when looking at different types of mishaps? For example, do stall or spin mishap types occur more frequently when there is a specific combination of contributing factors (e.g., meteorological, physiological, or mechanical, etc.)?\n",
    "\n",
    "Are there specific contributing factors (or groups of factors) that, if focused on via training or other resources, would have a more significant impact on aviation mishap rates for the most common mishap types?\n",
    "\n",
    "Overall analysis:\n",
    "Most common accident? Incident? both?\n",
    "Most deadly accident type? Incident type? both? (fatalities\n",
    "\n",
    "Of these most common, what are the combinations of contributing factors most prevalent for these A/Is?\n",
    "\n",
    "Questions for follow-up:\n",
    "Pilot analysis:\n",
    "Does the total flight time (flight hours) of the pilot make a difference? \n",
    "Does the total number of flight hours in make/model make a difference?\n",
    "Does the number of flight hours in the preceeding 90 days make a difference?\n",
    "\n",
    "Aircraft Analysis:\n",
    "Aircraft type make a difference? \n",
    "Engine?\n"
   ]
  },
  {
   "cell_type": "markdown",
   "metadata": {
    "slideshow": {
     "slide_type": "slide"
    }
   },
   "source": [
    "## Challenges\n",
    "1. There are several data sets provided from multiple organizations that are each very large. This required a thorough study of each data set thoroughly to determine the best combination of data and questions to ask.\n",
    "\n",
    "2. The analysis is further complicated by the fact that the main data set refers to multiple other tables that decode the various codes recorded in the main table. I \n"
   ]
  },
  {
   "cell_type": "markdown",
   "metadata": {
    "slideshow": {
     "slide_type": "slide"
    }
   },
   "source": [
    "## Project Execution\n",
    "This project required me to look at many different data sets from the NTSB, FAA, BTS, and NASA. I selected a dataset from the FAA's Accident/Incident Database (AIDS). This database is very thorough and spans many years (pre-1975, then each year through 2015). I began by looking at the data download site at http://av-info.faa.gov/dd_sublevel.asp?Folder=%5CAID.\n",
    "\n",
    "The data is broken down by year groups, with one text file (tab delimited) per 5 year time period. The resulting data set is massive. I began by choosing the most recent year group (2015 - 2019) which includes incidents up to July 29th, 2017. This one file contains 5,775 rows and 180 columns.\n",
    "\n",
    "There are several ways to approach this. I considered combining all data files into one DataFrame for analysis, but for the scope of this project, I chose to keep my analysis to the most recent year group. In the future, it would be interesting to conduct the same analysis on the combined data set to look at the trends of accidents and incidents over time."
   ]
  },
  {
   "cell_type": "code",
   "execution_count": 20,
   "metadata": {
    "slideshow": {
     "slide_type": "slide"
    }
   },
   "outputs": [
    {
     "name": "stderr",
     "output_type": "stream",
     "text": [
      "Skipping line 1095: expected 180 fields, saw 181\n",
      "Skipping line 1798: expected 180 fields, saw 181\n",
      "Skipping line 2414: expected 180 fields, saw 181\n",
      "Skipping line 2938: expected 180 fields, saw 181\n",
      "Skipping line 3990: expected 180 fields, saw 181\n",
      "\n"
     ]
    }
   ],
   "source": [
    "# Import sample data file from FAA Accident/Incident Database (AIDS):\n",
    "import pandas as pd\n",
    "url = './data/A2015_19.txt'\n",
    "faa = pd.read_table(url, sep='\\t', error_bad_lines=False) # I needed to add the error_bad_lines in order to get the file to read"
   ]
  },
  {
   "cell_type": "markdown",
   "metadata": {
    "slideshow": {
     "slide_type": "slide"
    }
   },
   "source": [
    "# Data Munging Phase\n",
    "In this phase I examined basic information about the data set. After I pulled the data into my notebook, I found that I did not need many of the 180 columns. I imported the data dictionary from a text file into a spreadsheet (./data/Data Dictionary.xlsx) and looked at the columns to determine those I could drop for the main data set. I annotated the spreadsheet with my keep/drop decision. As some of the questions I wanted to examine would need some features while others would not, I kept the 'faa' dataset as whole as possible, and peeled off subsets of the data as needed. I also renamed the columns so they would make more sense during the analysis phase.\n",
    "\n",
    "### Notes:\n",
    "Todo:\n",
    "1. C1 - Type of Event. Many of the rows are not aligned right in the data set, resulting in entire rows being offset.I need to identify those rows using faa.loc[(faa['c1'] != 'I') & (faa['c1'] != 'A')] and move those data to the preceeding row, into the correct positions. Alternatively, I could just cut that row and the preceeding row.\n",
    "2. Look at c229/c230 - these are dates in yyyymmdd format"
   ]
  },
  {
   "cell_type": "code",
   "execution_count": 80,
   "metadata": {},
   "outputs": [
    {
     "data": {
      "text/html": [
       "<div>\n",
       "<style>\n",
       "    .dataframe thead tr:only-child th {\n",
       "        text-align: right;\n",
       "    }\n",
       "\n",
       "    .dataframe thead th {\n",
       "        text-align: left;\n",
       "    }\n",
       "\n",
       "    .dataframe tbody tr th {\n",
       "        vertical-align: top;\n",
       "    }\n",
       "</style>\n",
       "<table border=\"1\" class=\"dataframe\">\n",
       "  <thead>\n",
       "    <tr style=\"text-align: right;\">\n",
       "      <th></th>\n",
       "      <th>c5</th>\n",
       "      <th>c1</th>\n",
       "      <th>c2</th>\n",
       "      <th>c3</th>\n",
       "      <th>c4</th>\n",
       "      <th>c6</th>\n",
       "      <th>c7</th>\n",
       "      <th>c8</th>\n",
       "      <th>c9</th>\n",
       "      <th>c10</th>\n",
       "      <th>...</th>\n",
       "      <th>c154</th>\n",
       "      <th>c156</th>\n",
       "      <th>c158</th>\n",
       "      <th>c161</th>\n",
       "      <th>c163</th>\n",
       "      <th>c183</th>\n",
       "      <th>c191</th>\n",
       "      <th>c229</th>\n",
       "      <th>c230</th>\n",
       "      <th>end_of_record</th>\n",
       "    </tr>\n",
       "  </thead>\n",
       "  <tbody>\n",
       "    <tr>\n",
       "      <th>12</th>\n",
       "      <td>20150104000259A</td>\n",
       "      <td>A</td>\n",
       "      <td>091</td>\n",
       "      <td></td>\n",
       "      <td></td>\n",
       "      <td>2015</td>\n",
       "      <td>01</td>\n",
       "      <td>04</td>\n",
       "      <td>20150104</td>\n",
       "      <td>1030</td>\n",
       "      <td>...</td>\n",
       "      <td>NaN</td>\n",
       "      <td>NaN</td>\n",
       "      <td>NaN</td>\n",
       "      <td>NaN</td>\n",
       "      <td>NaN</td>\n",
       "      <td>NaN</td>\n",
       "      <td>NaN</td>\n",
       "      <td>NaN</td>\n",
       "      <td>NaN</td>\n",
       "      <td>NaN</td>\n",
       "    </tr>\n",
       "    <tr>\n",
       "      <th>13</th>\n",
       "      <td>ON JANUARY 4TH,2015 IN THE EARLY PART OF THE M...</td>\n",
       "      <td>N/A</td>\n",
       "      <td></td>\n",
       "      <td></td>\n",
       "      <td></td>\n",
       "      <td></td>\n",
       "      <td></td>\n",
       "      <td></td>\n",
       "      <td></td>\n",
       "      <td></td>\n",
       "      <td>...</td>\n",
       "      <td>NaN</td>\n",
       "      <td>NaN</td>\n",
       "      <td>NaN</td>\n",
       "      <td>NaN</td>\n",
       "      <td>NaN</td>\n",
       "      <td>NaN</td>\n",
       "      <td>NaN</td>\n",
       "      <td>NaN</td>\n",
       "      <td>NaN</td>\n",
       "      <td>NaN</td>\n",
       "    </tr>\n",
       "  </tbody>\n",
       "</table>\n",
       "<p>2 rows × 180 columns</p>\n",
       "</div>"
      ],
      "text/plain": [
       "                                                   c5  \\\n",
       "12                                    20150104000259A   \n",
       "13  ON JANUARY 4TH,2015 IN THE EARLY PART OF THE M...   \n",
       "\n",
       "                                c1   c2    c3           c4    c6    c7  \\\n",
       "12                               A  091                     2015    01   \n",
       "13  N/A                                                                  \n",
       "\n",
       "        c8                    c9   c10      ...      c154 c156 c158 c161 c163  \\\n",
       "12      04              20150104  1030      ...       NaN  NaN  NaN  NaN  NaN   \n",
       "13                                          ...       NaN  NaN  NaN  NaN  NaN   \n",
       "\n",
       "   c183 c191 c229 c230 end_of_record  \n",
       "12  NaN  NaN  NaN  NaN           NaN  \n",
       "13  NaN  NaN  NaN  NaN           NaN  \n",
       "\n",
       "[2 rows x 180 columns]"
      ]
     },
     "execution_count": 80,
     "metadata": {},
     "output_type": "execute_result"
    }
   ],
   "source": [
    "#Data Munging Phase\n",
    "\n",
    "#Get basic info on dataset:\n",
    "#print \"Info: \", faa.info(), '\\n'\n",
    "#print \"Shape: \", faa.shape, '\\n'\n",
    "#print \"Columns: \", faa.columns, '\\n'\n",
    "\n",
    "#Based on the Data Dictionary (./data/Data Dictionary.xlsx) many of the 180 features can be dropped from the main data set.\n",
    "\n",
    "#There should only be two event types: A or I (accident or incident)\n",
    "faa.loc[12:13]"
   ]
  },
  {
   "cell_type": "code",
   "execution_count": 85,
   "metadata": {},
   "outputs": [
    {
     "data": {
      "text/plain": [
       "13"
      ]
     },
     "execution_count": 85,
     "metadata": {},
     "output_type": "execute_result"
    }
   ],
   "source": [
    "faa.index[(faa['c1'] != 'I') & (faa['c1'] != 'A')].min()"
   ]
  },
  {
   "cell_type": "code",
   "execution_count": null,
   "metadata": {
    "collapsed": true
   },
   "outputs": [],
   "source": []
  }
 ],
 "metadata": {
  "celltoolbar": "Slideshow",
  "kernelspec": {
   "display_name": "Python 2",
   "language": "python",
   "name": "python2"
  },
  "language_info": {
   "codemirror_mode": {
    "name": "ipython",
    "version": 2
   },
   "file_extension": ".py",
   "mimetype": "text/x-python",
   "name": "python",
   "nbconvert_exporter": "python",
   "pygments_lexer": "ipython2",
   "version": "2.7.13"
  }
 },
 "nbformat": 4,
 "nbformat_minor": 2
}
