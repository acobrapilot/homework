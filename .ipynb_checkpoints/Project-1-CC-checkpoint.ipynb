{
 "cells": [
  {
   "cell_type": "markdown",
   "metadata": {},
   "source": [
    "<img src=\"http://imgur.com/1ZcRyrc.png\" style=\"float: left; margin: 20px; height: 55px\">\n",
    "\n",
    "# Project 1: Python Coding Exercises\n",
    "\n",
    "_Authors: Joseph Nelson (DC) _\n",
    "\n",
    "---"
   ]
  },
  {
   "cell_type": "markdown",
   "metadata": {},
   "source": [
    "The following code challenges are drawn from common exercises used in technical interviews.\n",
    "\n",
    "Note that there may be several ways to approach each challenge!"
   ]
  },
  {
   "cell_type": "markdown",
   "metadata": {},
   "source": [
    "### Challenge 1.1: Largest Palindrome\n",
    "A palindromic number reads the same both ways. For example, 1234321 is a palindrome. The largest palindrome made from the product of two two-digit numbers is 9009 = 91 × 99. Find the largest palindrome made from the product of two three-digit numbers."
   ]
  },
  {
   "cell_type": "code",
   "execution_count": 30,
   "metadata": {},
   "outputs": [
    {
     "name": "stdout",
     "output_type": "stream",
     "text": [
      "The largest palindrome is 906609 with an X of 993 and Y of 913\n"
     ]
    }
   ],
   "source": [
    "# Largest Palindrome\n",
    "# For this challenge, I'll need to iterate across a list results to compare if they are the same when read both ways.\n",
    "# Pseudo:\n",
    "\n",
    "# test_result = 0\n",
    "# largest_palindrome = 0\n",
    "# loop num1 from 999 down to 100\n",
    "#   Loop num2 from 999 down to 100\n",
    "#      multiply num1 and num2 => test_result\n",
    "#      check if test_result is a palindrome (write a function that returns number if so, 0 otherwise)\n",
    "#      if result is greater than largest_palindrome, replace largest_palindrome with result\n",
    "# Print largest_palindrome\n",
    "\n",
    "def is_palindrome(result):\n",
    "    forward = str(result)\n",
    "    reverse = str(result)[::-1] # convert input to string and reverse the string\n",
    "    if forward == reverse: # check for palindrome\n",
    "        return result # return the number, not the string\n",
    "    else:\n",
    "        return 0\n",
    "\n",
    "test_result = 0\n",
    "largest_palindrome = 0\n",
    "num1 = 0\n",
    "num2 = 0\n",
    "for x in range(999, 99, -1): # step through 3 digit numbers in reverse\n",
    "    for y in range(999, 99, -1):\n",
    "        test_result = x*y        \n",
    "        if is_palindrome(test_result) > largest_palindrome: \n",
    "            largest_palindrome = test_result\n",
    "            num1 = x\n",
    "            num2 = y\n",
    "\n",
    "print \"The largest palindrome is \" + str(largest_palindrome) + \" with an X of \" + str(num1) + \" and Y of \" + str(num2)\n",
    "    \n",
    "    \n",
    "    \n",
    "    "
   ]
  },
  {
   "cell_type": "markdown",
   "metadata": {},
   "source": [
    "\n",
    "### Challenge 1.2: Summation of Primes\n",
    "The sum of the primes below 10 is 2 + 3 + 5 + 7 = 17. Find the sum of all the primes below 2,000."
   ]
  },
  {
   "cell_type": "code",
   "execution_count": 1,
   "metadata": {},
   "outputs": [
    {
     "name": "stdout",
     "output_type": "stream",
     "text": [
      "277050\n"
     ]
    }
   ],
   "source": [
    "# Summation of Primes\n",
    "# For this challenge I will need to iterate through numbers 1 to 2,000\n",
    "# Check if each number is a prime. (write a function that returns a Boolean)\n",
    "# If number is a prime, add it to the sum\n",
    "\n",
    "sum_of_primes = 0\n",
    "def is_prime(number):\n",
    "    if number < 2: # 2 is the first prime\n",
    "        return False\n",
    "    if number == 2 or number == 3: # 2 and 3 are primes\n",
    "        return True\n",
    "    if number % 2 == 0: # removes even numbers\n",
    "        return False \n",
    "    for i in range(3,int(number**0.5)+1,2): # check only odd numbers up to the square root of the number.\n",
    "        if number % i == 0:\n",
    "            return False\n",
    "    return True\n",
    "\n",
    "for i in range(1,2000):\n",
    "    if is_prime(i):\n",
    "        sum_of_primes += i\n",
    "        \n",
    "print sum_of_primes\n"
   ]
  },
  {
   "cell_type": "markdown",
   "metadata": {},
   "source": [
    "### Challenge 1.3: Multiples of 3 and 5\n",
    "If we list all of the natural numbers below 10 that are multiples of 3 or 5, we get 3, 5, 6, and 9. The sum of these multiples is 23. Find the sum of all the multiples of 3 and 5 below 1,000."
   ]
  },
  {
   "cell_type": "code",
   "execution_count": 40,
   "metadata": {},
   "outputs": [
    {
     "name": "stdout",
     "output_type": "stream",
     "text": [
      "233168\n"
     ]
    }
   ],
   "source": [
    "# Multiples of 3 and 5\n",
    "# Test for multiple of 3 or 5 using modulus. (in a function)\n",
    "# if the number is a multiple of 3 or 5, add to the sum.\n",
    "\n",
    "def multiple_3or5(number): # Function that does a quick test for multiple of either 3 or 5\n",
    "    if number % 3 == 0:\n",
    "        return True\n",
    "    if number % 5 == 0:\n",
    "        return True\n",
    "    return False\n",
    "\n",
    "sum_of_multiples = 0\n",
    "for i in range(1,1000):\n",
    "    if multiple_3or5(i):\n",
    "        sum_of_multiples += i\n",
    "        \n",
    "print sum_of_multiples\n",
    "        \n",
    "    "
   ]
  },
  {
   "cell_type": "markdown",
   "metadata": {},
   "source": [
    "### Challenge 2: FizzBuzz\n",
    "Write a program that prints all of the numbers from 1 to 100. For multiples of 3, instead of the number, print \"Fizz;\" for multiples of 5, print \"Buzz.\" For numbers that are multiples of both 3 and 5, print \"FizzBuzz.\" Bonus: If that's too easy, create three unique solutions. Sometimes you'll encounter unexpected constraints, so make sure you're able to think creatively!"
   ]
  },
  {
   "cell_type": "code",
   "execution_count": 43,
   "metadata": {},
   "outputs": [
    {
     "name": "stdout",
     "output_type": "stream",
     "text": [
      "1\n",
      "2\n",
      "Fizz\n",
      "4\n",
      "Buzz\n",
      "Fizz\n",
      "7\n",
      "8\n",
      "Fizz\n",
      "Buzz\n",
      "11\n",
      "Fizz\n",
      "13\n",
      "14\n",
      "FizzBuzz\n",
      "16\n",
      "17\n",
      "Fizz\n",
      "19\n",
      "Buzz\n",
      "Fizz\n",
      "22\n",
      "23\n",
      "Fizz\n",
      "Buzz\n",
      "26\n",
      "Fizz\n",
      "28\n",
      "29\n",
      "FizzBuzz\n",
      "31\n",
      "32\n",
      "Fizz\n",
      "34\n",
      "Buzz\n",
      "Fizz\n",
      "37\n",
      "38\n",
      "Fizz\n",
      "Buzz\n",
      "41\n",
      "Fizz\n",
      "43\n",
      "44\n",
      "FizzBuzz\n",
      "46\n",
      "47\n",
      "Fizz\n",
      "49\n",
      "Buzz\n",
      "Fizz\n",
      "52\n",
      "53\n",
      "Fizz\n",
      "Buzz\n",
      "56\n",
      "Fizz\n",
      "58\n",
      "59\n",
      "FizzBuzz\n",
      "61\n",
      "62\n",
      "Fizz\n",
      "64\n",
      "Buzz\n",
      "Fizz\n",
      "67\n",
      "68\n",
      "Fizz\n",
      "Buzz\n",
      "71\n",
      "Fizz\n",
      "73\n",
      "74\n",
      "FizzBuzz\n",
      "76\n",
      "77\n",
      "Fizz\n",
      "79\n",
      "Buzz\n",
      "Fizz\n",
      "82\n",
      "83\n",
      "Fizz\n",
      "Buzz\n",
      "86\n",
      "Fizz\n",
      "88\n",
      "89\n",
      "FizzBuzz\n",
      "91\n",
      "92\n",
      "Fizz\n",
      "94\n",
      "Buzz\n",
      "Fizz\n",
      "97\n",
      "98\n",
      "Fizz\n",
      "Buzz\n"
     ]
    }
   ],
   "source": [
    "# FizzBizz Challenge\n",
    "# For this challenge I will need to loop through all numbers in the range of 1 to 101.\n",
    "# using a modified version of the above function, test for multiple of 3 or 5 and print up Fizz, Buzz, or Fizbuzz per instructions\n",
    "\n",
    "def fizzbuzz(number):\n",
    "    if number %3 == 0 and number %5 == 0: # Testing this case first because either other case will return \n",
    "        return 'FizzBuzz'\n",
    "    if number %3 == 0:\n",
    "        return 'Fizz'\n",
    "    if number %5 == 0:\n",
    "        return 'Buzz'\n",
    "    return number\n",
    "\n",
    "for i in range(1,101):\n",
    "    print fizzbuzz(i)\n",
    "    \n",
    "\n",
    "\n"
   ]
  },
  {
   "cell_type": "markdown",
   "metadata": {},
   "source": [
    "### Challenge 3: String Compressor\n",
    "Implement a method to perform basic string compression using the counts of repeated characters. (This is called run-length encoding.) For example, the string \"aabcccccaaa\" would become a2b1c5a3. If the “compressed” string would not become smaller than the original string, your method should return the original string. You can assume the string has only uppercase and lowercase letters (a–z). Specify whether your solution is case sensitive or case insensitive and what you would need to change to make it the other."
   ]
  },
  {
   "cell_type": "code",
   "execution_count": 2,
   "metadata": {},
   "outputs": [
    {
     "name": "stdout",
     "output_type": "stream",
     "text": [
      "a2b1c5a3\n",
      "abcdef\n"
     ]
    }
   ],
   "source": [
    "# String Compressor\n",
    "# Create a function that loops through the input string\n",
    "#   at each unique character, loop until that character is no longer repeated, keeping track of number of iterations\n",
    "#   add the character and the number of iterations to return string\n",
    "\n",
    "# This solution is case sensitive. In order to change it, I would use string.lower() on the input string.\n",
    "\n",
    "def basic_encoder(string):\n",
    "    answer = '' # return string\n",
    "    priorletter = '' # tracks prior letter\n",
    "    for i in range(0,len(string)):\n",
    "        counter = 1 # each letter will appear at least once, so we start with 1\n",
    "        nextletter = '' # placeholder to track the upcoming letter\n",
    "        letter = '' # current letter\n",
    "        if string[i] <> priorletter:#only do this if the new letter isn't the same as the last\n",
    "            for j in range(i, len(string)): # loop at each letter\n",
    "                if (j + 1) < len(string): # this will prevent index error\n",
    "                    letter = string[i]\n",
    "                    nextletter = string[j+1]\n",
    "                    if nextletter == letter:\n",
    "                        counter += 1\n",
    "                    else:\n",
    "                        priorletter = letter \n",
    "                        break # breaks once the next letter is no longer the same as the current letter\n",
    "                else: # case for end of string\n",
    "                    priorletter = letter\n",
    "            answer += letter + str(counter) # adds the letter and counter to the answer string\n",
    "    if len(answer) >= len(string):\n",
    "        return string\n",
    "    else:\n",
    "        return answer\n",
    "\n",
    "print basic_encoder('aabcccccaaa')\n",
    "print basic_encoder('abcdef')\n"
   ]
  },
  {
   "cell_type": "code",
   "execution_count": null,
   "metadata": {
    "collapsed": true
   },
   "outputs": [],
   "source": []
  }
 ],
 "metadata": {
  "anaconda-cloud": {},
  "kernelspec": {
   "display_name": "Python 2",
   "language": "python",
   "name": "python2"
  },
  "language_info": {
   "codemirror_mode": {
    "name": "ipython",
    "version": 2
   },
   "file_extension": ".py",
   "mimetype": "text/x-python",
   "name": "python",
   "nbconvert_exporter": "python",
   "pygments_lexer": "ipython2",
   "version": "2.7.13"
  }
 },
 "nbformat": 4,
 "nbformat_minor": 2
}
